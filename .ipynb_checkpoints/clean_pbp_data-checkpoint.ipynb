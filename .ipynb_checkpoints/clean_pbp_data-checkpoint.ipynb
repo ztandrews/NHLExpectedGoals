{
 "cells": [
  {
   "cell_type": "markdown",
   "id": "42655e22-677d-4a4b-bd31-f2a08fa76667",
   "metadata": {},
   "source": [
    "# Play-By-Play Cleaning\n",
    "### Zach Andrews\n",
    "### ztandrews18@sbcglobal.net\n",
    "### github.com/ztandrews\n",
    "---\n",
    "##### Program to clean NHL play-By-play data. Trims the data into jsut shots and adds necessarty columns"
   ]
  },
  {
   "cell_type": "code",
   "execution_count": 457,
   "id": "0df13790-39fe-4be5-9156-7c934f047fc0",
   "metadata": {},
   "outputs": [],
   "source": [
    "#Import Modules\n",
    "import hockey_scraper\n",
    "import pandas as pd\n",
    "import numpy as np\n",
    "import math\n",
    "import re"
   ]
  },
  {
   "cell_type": "code",
   "execution_count": 755,
   "id": "701505c6-9259-46f2-8e25-35cd3c924f74",
   "metadata": {},
   "outputs": [],
   "source": [
    "#Read in CSV file\n",
    "pbp = pd.read_csv('season_pbp/nhl_pbp_20202021.csv')\n",
    "pbp = pbp.rename(columns={'Unnamed: 0':'pbp_ID'})"
   ]
  },
  {
   "cell_type": "code",
   "execution_count": 718,
   "id": "8a5594d0-0e23-4cbe-9619-a1c17fd5f028",
   "metadata": {},
   "outputs": [],
   "source": [
    "#Coordinate flipping \n",
    "pbp['xCordAdjusted'] = np.where(pbp['xC'] >= 0, pbp['xC'],pbp['xC']*-1)\n",
    "pbp['yCordAdjusted'] = np.where(pbp['xC'] >= 0, pbp['yC'],pbp['yC']*-1)"
   ]
  },
  {
   "cell_type": "code",
   "execution_count": 719,
   "id": "9c9fc9e6-cde2-43a1-94a0-9c1f2d0eea11",
   "metadata": {},
   "outputs": [],
   "source": [
    "#Is home team\n",
    "pbp['isHomeTeam'] = np.where((pbp['Ev_Team'] == pbp['Home_Team']), 1,0)"
   ]
  },
  {
   "cell_type": "code",
   "execution_count": 720,
   "id": "fb149f85-e372-4ce6-a0b8-f9521813aa40",
   "metadata": {},
   "outputs": [],
   "source": [
    "#Filter out weird events\n",
    "pbp_clean = pbp[(pbp['Event'] == 'GOAL') | (pbp['Event'] == 'SHOT') | (pbp['Event'] == 'MISS') | (pbp['Event'] == 'BLOCK') | (pbp['Event'] == 'FAC') | (pbp['Event'] == 'HIT') | (pbp['Event'] == 'GIVE') | (pbp['Event'] == 'TAKE')]"
   ]
  },
  {
   "cell_type": "code",
   "execution_count": 721,
   "id": "b9603fca-8e5b-4a36-b6d8-e2d9df74b3b4",
   "metadata": {},
   "outputs": [
    {
     "name": "stderr",
     "output_type": "stream",
     "text": [
      "\n",
      "A value is trying to be set on a copy of a slice from a DataFrame.\n",
      "Try using .loc[row_indexer,col_indexer] = value instead\n",
      "\n",
      "See the caveats in the documentation: https://pandas.pydata.org/pandas-docs/stable/user_guide/indexing.html#returning-a-view-versus-a-copy\n",
      "\u001b[0m"
     ]
    }
   ],
   "source": [
    "#Adjust times\n",
    "pbp_clean['gameSeconds'] = np.where(pbp_clean['Period']==1,pbp_clean['Seconds_Elapsed'],(pbp_clean['Seconds_Elapsed']+((pbp_clean['Period']-1)*1200)))"
   ]
  },
  {
   "cell_type": "code",
   "execution_count": 722,
   "id": "4bfb3471-87e8-4e9f-9d7f-c781915a2ebc",
   "metadata": {},
   "outputs": [
    {
     "name": "stderr",
     "output_type": "stream",
     "text": [
      "\n",
      "A value is trying to be set on a copy of a slice from a DataFrame.\n",
      "Try using .loc[row_indexer,col_indexer] = value instead\n",
      "\n",
      "See the caveats in the documentation: https://pandas.pydata.org/pandas-docs/stable/user_guide/indexing.html#returning-a-view-versus-a-copy\n",
      "\u001b[0m\n",
      "A value is trying to be set on a copy of a slice from a DataFrame.\n",
      "Try using .loc[row_indexer,col_indexer] = value instead\n",
      "\n",
      "See the caveats in the documentation: https://pandas.pydata.org/pandas-docs/stable/user_guide/indexing.html#returning-a-view-versus-a-copy\n",
      "\u001b[0m\n",
      "A value is trying to be set on a copy of a slice from a DataFrame.\n",
      "Try using .loc[row_indexer,col_indexer] = value instead\n",
      "\n",
      "See the caveats in the documentation: https://pandas.pydata.org/pandas-docs/stable/user_guide/indexing.html#returning-a-view-versus-a-copy\n",
      "\u001b[0m\n",
      "A value is trying to be set on a copy of a slice from a DataFrame.\n",
      "Try using .loc[row_indexer,col_indexer] = value instead\n",
      "\n",
      "See the caveats in the documentation: https://pandas.pydata.org/pandas-docs/stable/user_guide/indexing.html#returning-a-view-versus-a-copy\n",
      "\u001b[0m\n",
      "A value is trying to be set on a copy of a slice from a DataFrame.\n",
      "Try using .loc[row_indexer,col_indexer] = value instead\n",
      "\n",
      "See the caveats in the documentation: https://pandas.pydata.org/pandas-docs/stable/user_guide/indexing.html#returning-a-view-versus-a-copy\n",
      "\u001b[0m\n",
      "A value is trying to be set on a copy of a slice from a DataFrame.\n",
      "Try using .loc[row_indexer,col_indexer] = value instead\n",
      "\n",
      "See the caveats in the documentation: https://pandas.pydata.org/pandas-docs/stable/user_guide/indexing.html#returning-a-view-versus-a-copy\n",
      "\u001b[0m\n",
      "A value is trying to be set on a copy of a slice from a DataFrame.\n",
      "Try using .loc[row_indexer,col_indexer] = value instead\n",
      "\n",
      "See the caveats in the documentation: https://pandas.pydata.org/pandas-docs/stable/user_guide/indexing.html#returning-a-view-versus-a-copy\n",
      "\u001b[0m\n",
      "A value is trying to be set on a copy of a slice from a DataFrame.\n",
      "Try using .loc[row_indexer,col_indexer] = value instead\n",
      "\n",
      "See the caveats in the documentation: https://pandas.pydata.org/pandas-docs/stable/user_guide/indexing.html#returning-a-view-versus-a-copy\n",
      "\u001b[0m\n",
      "A value is trying to be set on a copy of a slice from a DataFrame.\n",
      "Try using .loc[row_indexer,col_indexer] = value instead\n",
      "\n",
      "See the caveats in the documentation: https://pandas.pydata.org/pandas-docs/stable/user_guide/indexing.html#returning-a-view-versus-a-copy\n",
      "\u001b[0m"
     ]
    }
   ],
   "source": [
    "#Last Event\n",
    "shifted = pbp_clean.shift(1,axis=0)\n",
    "pbp_clean['lastEvent'] = shifted['Event']\n",
    "pbp_clean['lastEventTeam'] = shifted['Ev_Team']\n",
    "pbp_clean['lastEventxC']= shifted['xC']\n",
    "pbp_clean['lastEventyC']= shifted['yC']\n",
    "pbp_clean['lastEventStrength']= shifted['Strength']\n",
    "pbp_clean['lastEventgameSeconds']= shifted['gameSeconds']\n",
    "pbp_clean['timeSinceLastEvent'] = (pbp_clean['gameSeconds'] - pbp_clean['lastEventgameSeconds'])\n",
    "pbp_clean['lastEventDescription'] = shifted['Description']\n",
    "pbp_clean['lastEventZone'] = shifted['Ev_Zone']"
   ]
  },
  {
   "cell_type": "code",
   "execution_count": 723,
   "id": "516efa9b-78e5-40a4-ac76-041694e9a8ff",
   "metadata": {},
   "outputs": [
    {
     "name": "stderr",
     "output_type": "stream",
     "text": [
      "\n",
      "A value is trying to be set on a copy of a slice from a DataFrame.\n",
      "Try using .loc[row_indexer,col_indexer] = value instead\n",
      "\n",
      "See the caveats in the documentation: https://pandas.pydata.org/pandas-docs/stable/user_guide/indexing.html#returning-a-view-versus-a-copy\n",
      "\u001b[0m"
     ]
    }
   ],
   "source": [
    "#Goal binary variable\n",
    "pbp_clean['goal'] = np.where(pbp_clean['Event']==\"GOAL\",1,0)"
   ]
  },
  {
   "cell_type": "code",
   "execution_count": 724,
   "id": "82970cb0-3f2c-4cdd-a492-3a173044f62e",
   "metadata": {},
   "outputs": [],
   "source": [
    "#Create shots df\n",
    "shots = pbp_clean[(pbp_clean['Event'] == 'GOAL') | (pbp_clean['Event'] == 'SHOT') | (pbp_clean['Event'] == 'MISS')]"
   ]
  },
  {
   "cell_type": "code",
   "execution_count": 725,
   "id": "544b7ec1-25dd-467d-bb7d-a2dca25f1db6",
   "metadata": {},
   "outputs": [],
   "source": [
    "#Drop weird description\n",
    "shots = shots.drop(shots[shots['Description'].astype(str).str.find(\"Own Goal\") != -1].index)"
   ]
  },
  {
   "cell_type": "code",
   "execution_count": 726,
   "id": "759e789f-93a0-444f-86b2-cc3553aec7b0",
   "metadata": {},
   "outputs": [],
   "source": [
    "#Get pbp distance\n",
    "shots['pbp_distance'] = shots['Description'].str.extract(\".*Zone, *(.*?) * ft.*\").astype(float)"
   ]
  },
  {
   "cell_type": "code",
   "execution_count": 727,
   "id": "a0f8b3ae-ca5d-413d-a10e-0b63a20ffa1b",
   "metadata": {},
   "outputs": [],
   "source": [
    "#Last event coord dlipping\n",
    "#If the shots x cord is < 0, flip the last one\n",
    "shots['lastEventxCordAdjusted'] = np.where(shots['xC']<0,shots['lastEventxC']*-1,shots['lastEventxC'])\n",
    "shots['lastEventyCordAdjusted'] = np.where(shots['xC']<0,shots['lastEventyC']*-1,shots['lastEventyC'])"
   ]
  },
  {
   "cell_type": "code",
   "execution_count": 728,
   "id": "be324971-a2b3-4e50-93a7-d0f6ad3c12ad",
   "metadata": {},
   "outputs": [],
   "source": [
    "#Distance\n",
    "shots = shots.dropna(subset=['xC','yC'])\n",
    "shots['shotDistance'] = np.sqrt((89-shots['xCordAdjusted']).pow(2) + shots['yCordAdjusted'].pow(2))"
   ]
  },
  {
   "cell_type": "code",
   "execution_count": 729,
   "id": "dc3bccff-5aaf-4af7-850f-45cbe9ad3e74",
   "metadata": {},
   "outputs": [],
   "source": [
    "#Distance for long shots\n",
    "shots['shotDistance'] = np.where((shots['pbp_distance'] > 89) & (shots['xC'] < 0) & (shots['Type'] != \"TIP-IN\") & (shots['Type'] != \"WRAP-AROUND\") & (shots['Type'] != \"DEFLECTED\") & (shots['Ev_Zone'] != \"Off\"), np.sqrt((abs(shots['xCordAdjusted'])+89).pow(2) + shots['yCordAdjusted'].pow(2)), shots['shotDistance'])"
   ]
  },
  {
   "cell_type": "code",
   "execution_count": 730,
   "id": "33e8661f-5e77-40be-b350-8ca1caa0f611",
   "metadata": {},
   "outputs": [],
   "source": [
    "#Distance for long shots\n",
    "shots['shotDistance'] = np.where((shots['pbp_distance'] > 89) & (shots['xC'] > 0) & (shots['Type'] != \"TIP-IN\") & (shots['Type'] != \"WRAP-AROUND\") & (shots['Type'] != \"DEFLECTED\") & (shots['Ev_Zone'] != \"Off\"), np.sqrt(((shots['xCordAdjusted'])+89).pow(2) + shots['yCordAdjusted'].pow(2)), shots['shotDistance'])"
   ]
  },
  {
   "cell_type": "code",
   "execution_count": 731,
   "id": "e762b770-0d40-4082-b37e-e134d9b48363",
   "metadata": {},
   "outputs": [],
   "source": [
    "#Shot Angle\n",
    "shots['shotAngle'] =  abs(np.arctan(shots['yC'] / (89 - abs(shots['xC']))) * (180 / math.pi))"
   ]
  },
  {
   "cell_type": "code",
   "execution_count": 732,
   "id": "4589fd41-c733-4c7b-ae2a-c6feec575bc8",
   "metadata": {},
   "outputs": [],
   "source": [
    "#Shot Angle for long shots\n",
    "shots['shotAngle'] = np.where((shots['pbp_distance'] > 89) & (shots['xC'] < 0) & (shots['Type'] != \"TIP-IN\") & (shots['Type'] != \"WRAP-AROUND\") & (shots['Type'] != \"DEFLECTED\") & (shots['Ev_Zone'] != \"Off\"), abs(np.arctan(shots['yC'] / (abs(shots['xC'] + 89))) * (180 / math.pi)) , shots['shotAngle'])"
   ]
  },
  {
   "cell_type": "code",
   "execution_count": 733,
   "id": "cf429e8a-fa2b-411a-9601-824be5dc89cc",
   "metadata": {},
   "outputs": [],
   "source": [
    "#Shot Angle for long shots\n",
    "shots['shotAngle'] = np.where((shots['pbp_distance'] > 89) & (shots['xC'] > 0) & (shots['Type'] != \"TIP-IN\") & (shots['Type'] != \"WRAP-AROUND\") & (shots['Type'] != \"DEFLECTED\") & (shots['Ev_Zone'] != \"Off\"), abs(np.arctan(shots['yC'] / ((shots['xC'] + 89))) * (180 / math.pi)) , shots['shotAngle'])"
   ]
  },
  {
   "cell_type": "code",
   "execution_count": 734,
   "id": "24bee3f4-c096-4427-8b5f-a73d808e2406",
   "metadata": {},
   "outputs": [],
   "source": [
    "#Cord flipping for long shots\n",
    "shots['xCordAdjusted'] = np.where((shots['pbp_distance'] > 89) & (shots['xC'] < 0) & (shots['Type'] != \"TIP-IN\") & (shots['Type'] != \"WRAP-AROUND\") & (shots['Type'] != \"DEFLECTED\") & (shots['Ev_Zone'] != \"Off\"), shots['xC'], shots['xCordAdjusted'])\n",
    "shots['yCordAdjusted'] = np.where((shots['pbp_distance'] > 89) & (shots['xC'] < 0) & (shots['Type'] != \"TIP-IN\") & (shots['Type'] != \"WRAP-AROUND\") & (shots['Type'] != \"DEFLECTED\") & (shots['Ev_Zone'] != \"Off\"), shots['yC'], shots['yCordAdjusted'])"
   ]
  },
  {
   "cell_type": "code",
   "execution_count": 735,
   "id": "5fde0637-89f5-44b5-a562-d291ac82395d",
   "metadata": {},
   "outputs": [],
   "source": [
    "#Cord flipping for long shots\n",
    "shots['xCordAdjusted'] = np.where((shots['pbp_distance'] > 89) & (shots['xC'] > 0) & (shots['Type'] != \"TIP-IN\") & (shots['Type'] != \"WRAP-AROUND\") & (shots['Type'] != \"DEFLECTED\") & (shots['Ev_Zone'] != \"Off\"), shots['xC']*-1, shots['xCordAdjusted'])\n",
    "shots['yCordAdjusted'] = np.where((shots['pbp_distance'] > 89) & (shots['xC'] > 0) & (shots['Type'] != \"TIP-IN\") & (shots['Type'] != \"WRAP-AROUND\") & (shots['Type'] != \"DEFLECTED\") & (shots['Ev_Zone'] != \"Off\"), shots['yC']*-1, shots['yCordAdjusted'])"
   ]
  },
  {
   "cell_type": "code",
   "execution_count": 736,
   "id": "faec58b9-017b-4e09-a534-72e77b08c228",
   "metadata": {},
   "outputs": [],
   "source": [
    "#Last event cord flipping for long shots\n",
    "shots['lastEventxCordAdjusted'] = np.where((shots['pbp_distance'] > 89) & (shots['xC'] < 0) & (shots['Type'] != \"TIP-IN\") & (shots['Type'] != \"WRAP-AROUND\") & (shots['Type'] != \"DEFLECTED\") & (shots['Ev_Zone'] != \"Off\"), shots['lastEventxC'], shots['lastEventxCordAdjusted'])\n",
    "shots['lastEventyCordAdjusted'] = np.where((shots['pbp_distance'] > 89) & (shots['xC'] < 0) & (shots['Type'] != \"TIP-IN\") & (shots['Type'] != \"WRAP-AROUND\") & (shots['Type'] != \"DEFLECTED\") & (shots['Ev_Zone'] != \"Off\"), shots['lastEventyC'], shots['lastEventyCordAdjusted'])"
   ]
  },
  {
   "cell_type": "code",
   "execution_count": 737,
   "id": "0370afae-d5f1-4bad-ba0a-2b4a56b610b0",
   "metadata": {},
   "outputs": [],
   "source": [
    "#Last event cord flipping for long shots\n",
    "shots['lastEventxCordAdjusted'] = np.where((shots['pbp_distance'] > 89) & (shots['xC'] > 0) & (shots['Type'] != \"TIP-IN\") & (shots['Type'] != \"WRAP-AROUND\") & (shots['Type'] != \"DEFLECTED\") & (shots['Ev_Zone'] != \"Off\"), shots['lastEventxC']*-1, shots['lastEventxCordAdjusted'])\n",
    "shots['lastEventyCordAdjusted'] = np.where((shots['pbp_distance'] > 89) & (shots['xC'] > 0) & (shots['Type'] != \"TIP-IN\") & (shots['Type'] != \"WRAP-AROUND\") & (shots['Type'] != \"DEFLECTED\") & (shots['Ev_Zone'] != \"Off\"), shots['lastEventyC']*-1, shots['lastEventyCordAdjusted'])"
   ]
  },
  {
   "cell_type": "code",
   "execution_count": 738,
   "id": "26185509-e636-46b9-9cf9-af18f7c5a35a",
   "metadata": {},
   "outputs": [],
   "source": [
    "#Last Event Same Team variable\n",
    "shots['lastEvent_SameTeam'] = np.where(shots[\"Ev_Team\"]==shots['lastEventTeam'],1,0)"
   ]
  },
  {
   "cell_type": "code",
   "execution_count": 739,
   "id": "21eaacee-d8c5-41ee-8728-6ca5ad989b74",
   "metadata": {},
   "outputs": [],
   "source": [
    "#Last Event variables\n",
    "shots['lastEvent_SameTeamShot'] = np.where((shots['lastEvent_SameTeam']==1) & (shots['lastEvent']==\"SHOT\"),1,0)\n",
    "shots['lastEvent_OpponentShot'] = np.where((shots['lastEvent_SameTeam']==0) & (shots['lastEvent']==\"SHOT\"),1,0)\n",
    "shots['lastEvent_SameTeamMiss'] = np.where((shots['lastEvent_SameTeam']==1) & (shots['lastEvent']==\"MISS\"),1,0)\n",
    "shots['lastEvent_OpponentMiss'] = np.where((shots['lastEvent_SameTeam']==0) & (shots['lastEvent']==\"MISS\"),1,0)\n",
    "shots['lastEvent_SameTeamGive'] = np.where((shots['lastEvent_SameTeam']==1) & (shots['lastEvent']==\"GIVE\"),1,0)\n",
    "shots['lastEvent_OpponentGive'] = np.where((shots['lastEvent_SameTeam']==0) & (shots['lastEvent']==\"GIVE\"),1,0)\n",
    "shots['lastEvent_SameTeamTake'] = np.where((shots['lastEvent_SameTeam']==1) & (shots['lastEvent']==\"TAKE\"),1,0)\n",
    "shots['lastEvent_OpponentTake'] = np.where((shots['lastEvent_SameTeam']==0) & (shots['lastEvent']==\"TAKE\"),1,0)\n",
    "shots['lastEvent_SameTeamHit'] = np.where((shots['lastEvent_SameTeam']==1) & (shots['lastEvent']==\"HIT\"),1,0)\n",
    "shots['lastEvent_OpponentHit'] = np.where((shots['lastEvent_SameTeam']==0) & (shots['lastEvent']==\"HIT\"),1,0)\n",
    "shots['lastEvent_Faceoff'] = np.where((shots['lastEvent']==\"FAC\"),1,0)"
   ]
  },
  {
   "cell_type": "code",
   "execution_count": 740,
   "id": "01c9adac-7d4d-4185-a11b-e88d9f3e8f1b",
   "metadata": {},
   "outputs": [],
   "source": [
    "#Fill in missing last event coords if possible\n",
    "shots['lastEventxCordAdjusted'] = np.where((shots['lastEventxCordAdjusted'].isna()) & (shots['lastEventZone']==\"Def\") & (shots['lastEvent']=='FAC'),-69.0,shots['lastEventxCordAdjusted'])\n",
    "shots['lastEventyCordAdjusted'] = np.where((shots['lastEventyCordAdjusted'].isna()) & (shots['lastEventZone']==\"Def\") & (shots['lastEvent']=='FAC'),22,shots['lastEventyCordAdjusted'])\n",
    "shots['lastEventxCordAdjusted'] = np.where((shots['lastEventxCordAdjusted'].isna()) & (shots['lastEventZone']==\"Off\") & (shots['lastEvent']=='FAC'),69.0,shots['lastEventxCordAdjusted'])\n",
    "shots['lastEventyCordAdjusted'] = np.where((shots['lastEventyCordAdjusted'].isna()) & (shots['lastEventZone']==\"Off\") & (shots['lastEvent']=='FAC'),22,shots['lastEventyCordAdjusted'])\n",
    "shots['lastEventxCordAdjusted'] = np.where((shots['lastEventxCordAdjusted'].isna()) & (shots['lastEventZone']==\"Neu\") & (shots['lastEvent']=='FAC'),0,shots['lastEventxCordAdjusted'])\n",
    "shots['lastEventyCordAdjusted'] = np.where((shots['lastEventyCordAdjusted'].isna()) & (shots['lastEventZone']==\"Neu\") & (shots['lastEvent']=='FAC'),0,shots['lastEventyCordAdjusted'])"
   ]
  },
  {
   "cell_type": "code",
   "execution_count": 741,
   "id": "10252645-85e9-411d-869a-a7a15e2aafef",
   "metadata": {},
   "outputs": [],
   "source": [
    "#Drop shots where the previous event is not a faceoff and its missing data\n",
    "shots = shots.dropna(subset=['lastEventxCordAdjusted','lastEventyCordAdjusted'])"
   ]
  },
  {
   "cell_type": "code",
   "execution_count": 742,
   "id": "fffef486-570a-4144-bfd1-34dab5cb786e",
   "metadata": {},
   "outputs": [],
   "source": [
    "#Create new distance from last event metric\n",
    "shots['distanceFromLast'] = np.sqrt(np.square(shots['xCordAdjusted']-shots['lastEventxCordAdjusted'])+np.square(shots['yCordAdjusted']-shots['lastEventyCordAdjusted']))"
   ]
  },
  {
   "cell_type": "code",
   "execution_count": 743,
   "id": "e1814795-8926-4ee5-8988-6278fbf86c6e",
   "metadata": {},
   "outputs": [],
   "source": [
    "#Encode shot type\n",
    "shots['shotType_Wrist'] = np.where(shots['Type']==\"WRIST SHOT\",1,0)\n",
    "shots['shotType_Snap'] = np.where(shots['Type']==\"SNAP SHOT\",1,0)\n",
    "shots['shotType_Slap'] = np.where(shots['Type']==\"SLAP SHOT\",1,0)\n",
    "shots['shotType_Backhand'] = np.where(shots['Type']==\"BACKHAND\",1,0)\n",
    "shots['shotType_Tip'] = np.where(shots['Type']==\"TIP-IN\",1,0)\n",
    "shots['shotType_Deflected'] = np.where(shots['Type']==\"DEFLECTED\",1,0)\n",
    "shots['shotType_Wrap'] = np.where(shots['Type']==\"WRAP-AROUND\",1,0)"
   ]
  },
  {
   "cell_type": "code",
   "execution_count": 744,
   "id": "88cea371-ac29-41a3-ad49-878f89b2ded5",
   "metadata": {},
   "outputs": [],
   "source": [
    "#Score State\n",
    "shots['scoreState_Tie'] = np.where(shots['Home_Score'] == shots['Away_Score'],1,0)\n",
    "\n",
    "shots['scoreState_Down1'] = np.where(((shots['isHomeTeam']==1) & (shots['Home_Score']-shots['Away_Score']== -1)) | ((shots['isHomeTeam']==0) & (shots['Away_Score']-shots['Home_Score']== -1)),1,0)\n",
    "shots['scoreState_Down2'] = np.where(((shots['isHomeTeam']==1) & (shots['Home_Score']-shots['Away_Score']== -2)) | ((shots['isHomeTeam']==0) & (shots['Away_Score']-shots['Home_Score']== -2)),1,0)\n",
    "shots['scoreState_Down3'] = np.where(((shots['isHomeTeam']==1) & (shots['Home_Score']-shots['Away_Score']== -3)) | ((shots['isHomeTeam']==0) & (shots['Away_Score']-shots['Home_Score']== -3)) ,1,0)\n",
    "shots['scoreState_Down4'] = np.where(((shots['isHomeTeam']==1) & (shots['Home_Score']-shots['Away_Score']== -4)) | ((shots['isHomeTeam']==0) & (shots['Away_Score']-shots['Home_Score']== -4)) ,1,0)\n",
    "shots['scoreState_Down5Plus'] = np.where(((shots['isHomeTeam']==1) & (shots['Home_Score']-shots['Away_Score'] <= -5)) | ((shots['isHomeTeam']==0) & (shots['Away_Score']-shots['Home_Score'] <= -5)) ,1,0)\n",
    "\n",
    "shots['scoreState_Up1'] = np.where(((shots['isHomeTeam']==1) & (shots['Home_Score']-shots['Away_Score']== 1)) | ((shots['isHomeTeam']==0) & (shots['Away_Score']-shots['Home_Score']== 1)),1,0)\n",
    "shots['scoreState_Up2'] = np.where(((shots['isHomeTeam']==1) & (shots['Home_Score']-shots['Away_Score']== 2)) | ((shots['isHomeTeam']==0) & (shots['Away_Score']-shots['Home_Score']== 2)),1,0)\n",
    "shots['scoreState_Up3'] = np.where(((shots['isHomeTeam']==1) & (shots['Home_Score']-shots['Away_Score']== 3)) | ((shots['isHomeTeam']==0) & (shots['Away_Score']-shots['Home_Score']== 3)) ,1,0)\n",
    "shots['scoreState_Up4'] = np.where(((shots['isHomeTeam']==1) & (shots['Home_Score']-shots['Away_Score']== 4)) | ((shots['isHomeTeam']==0) & (shots['Away_Score']-shots['Home_Score']== 4)) ,1,0)\n",
    "shots['scoreState_Up5Plus'] = np.where(((shots['isHomeTeam']==1) & (shots['Home_Score']-shots['Away_Score'] >= 5)) | ((shots['isHomeTeam']==0) & (shots['Away_Score']-shots['Home_Score'] >= 5)) ,1,0)"
   ]
  },
  {
   "cell_type": "code",
   "execution_count": 745,
   "id": "00dbd8b8-cc5c-45df-8cb7-9711fdea7997",
   "metadata": {},
   "outputs": [],
   "source": [
    "#Is Rebound Variable\n",
    "shots['isRebound'] = np.where((shots['lastEvent_SameTeam']==1) & (((shots['lastEvent']=='SHOT') | (shots['lastEvent']=='MISS') | (shots['lastEvent'] == \"BLOCK\"))) & (shots['timeSinceLastEvent']<=3), 1,0)"
   ]
  },
  {
   "cell_type": "code",
   "execution_count": 746,
   "id": "7b0a9a20-ba20-4686-96aa-17ba48ede0b2",
   "metadata": {},
   "outputs": [],
   "source": [
    "#Is Rush Variabe\n",
    "shots['isRush'] = np.where((shots['lastEventxCordAdjusted'] < 25) & (shots['timeSinceLastEvent'] <=3) & (shots['lastEvent'] != 'SHOT') & (shots['lastEvent'] != 'MISS') & (shots['lastEvent'] != 'GOAL'),1,0)"
   ]
  },
  {
   "cell_type": "code",
   "execution_count": 747,
   "id": "612d08de-7a68-4999-a8cd-5158b3ad4a71",
   "metadata": {},
   "outputs": [],
   "source": [
    "#Is Empty Net\n",
    "shots['isOnEmptyNet'] = np.where((((shots['Home_Goalie'].isna()) & (shots['isHomeTeam']==0)) | ((shots['Away_Goalie'].isna()) & (shots['isHomeTeam']==1))),1,0)"
   ]
  },
  {
   "cell_type": "code",
   "execution_count": 748,
   "id": "72286016-dd02-4e34-a1c1-8374e42ffad1",
   "metadata": {},
   "outputs": [],
   "source": [
    "#Drop empty net shots\n",
    "shots = shots[shots['isOnEmptyNet']==0]"
   ]
  },
  {
   "cell_type": "code",
   "execution_count": 749,
   "id": "eb8a1353-4d1a-41d3-8879-463dac624c03",
   "metadata": {},
   "outputs": [],
   "source": [
    "#Filter out strange strengths\n",
    "all_strengths=['5x5','5x4','5x3','4x5','3x5','4x4','4x3','3x4','3x3','6x5','5x6','6x4','4x6','6x3','3x6']\n",
    "shots = (shots[shots['Strength'].isin(all_strengths)])"
   ]
  },
  {
   "cell_type": "code",
   "execution_count": 750,
   "id": "67b7fc8b-22f3-46e8-a406-91bf37d181c7",
   "metadata": {},
   "outputs": [],
   "source": [
    "#Create skaters on ice variables for home and away teams\n",
    "shots['homeSkatersOnIce'] = 0\n",
    "shots['awaySkatersOnIce'] = 0\n",
    "shots['homeSkatersOnIce'] = np.where(((shots['Home_Goalie'].isna() == True) & (shots['homePlayer6'].isna() == False)),6,shots['homeSkatersOnIce'])\n",
    "shots['homeSkatersOnIce'] = np.where(((shots['Home_Goalie'].isna() == True) & (shots['homePlayer6'].isna() == True) & (shots['homePlayer5'].isna() == False)),5,shots['homeSkatersOnIce'])\n",
    "shots['homeSkatersOnIce'] = np.where(((shots['Home_Goalie'].isna() == True) & (shots['homePlayer6'].isna() == True) & (shots['homePlayer5'].isna() == True)&  (shots['homePlayer4'].isna() == False)),4,shots['homeSkatersOnIce'])\n",
    "shots['homeSkatersOnIce'] = np.where((shots['homePlayer6']==shots['Home_Goalie']),5,shots['homeSkatersOnIce'])\n",
    "shots['homeSkatersOnIce'] = np.where((shots['homePlayer5']==shots['Home_Goalie']),4,shots['homeSkatersOnIce'])\n",
    "shots['homeSkatersOnIce'] = np.where((shots['homePlayer4']==shots['Home_Goalie']),3,shots['homeSkatersOnIce'])\n",
    "shots['awaySkatersOnIce'] = np.where(((shots['Away_Goalie'].isna() == True) & (shots['awayPlayer6'].isna() == False)),6,shots['awaySkatersOnIce'])\n",
    "shots['awaySkatersOnIce'] = np.where(((shots['Away_Goalie'].isna() == True) & (shots['awayPlayer6'].isna() == True) & (shots['awayPlayer5'].isna() == False)),5,shots['awaySkatersOnIce'])\n",
    "shots['awaySkatersOnIce'] = np.where(((shots['Away_Goalie'].isna() == True) & (shots['awayPlayer6'].isna() == True) & (shots['awayPlayer5'].isna() == True) &  (shots['awayPlayer4'].isna() == False)),4,shots['awaySkatersOnIce'])\n",
    "shots['awaySkatersOnIce'] = np.where((shots['awayPlayer6']==shots['Away_Goalie']),5,shots['awaySkatersOnIce'])\n",
    "shots['awaySkatersOnIce'] = np.where((shots['awayPlayer5']==shots['Away_Goalie']),4,shots['awaySkatersOnIce'])\n",
    "shots['awaySkatersOnIce'] = np.where((shots['awayPlayer4']==shots['Away_Goalie']),3,shots['awaySkatersOnIce'])"
   ]
  },
  {
   "cell_type": "code",
   "execution_count": 751,
   "id": "44fd1c25-c195-48cf-b4e6-ad1c3b99b340",
   "metadata": {},
   "outputs": [],
   "source": [
    "#Strength mapped\n",
    "conditions = [\n",
    "    (np.logical_or(np.logical_and(shots['isHomeTeam'] == 1,(shots['homeSkatersOnIce']==shots['awaySkatersOnIce'])),(np.logical_and(shots['isHomeTeam'] == 0,(shots['homeSkatersOnIce']==shots['awaySkatersOnIce']))))),\n",
    "    (np.logical_or(np.logical_and(shots['isHomeTeam'] == 1,(shots['homeSkatersOnIce'] > shots['awaySkatersOnIce'])),(np.logical_and(shots['isHomeTeam'] == 0,(shots['homeSkatersOnIce'] < shots['awaySkatersOnIce']))))),\n",
    "    (np.logical_or(np.logical_and(shots['isHomeTeam'] == 1,(shots['homeSkatersOnIce'] < shots['awaySkatersOnIce'])),(np.logical_and(shots['isHomeTeam'] == 0,(shots['homeSkatersOnIce'] > shots['awaySkatersOnIce'])))))\n",
    "]\n",
    "\n",
    "values = ['even','advantage','short_handed']\n",
    "\n",
    "shots['Strength_Mapped'] = np.select(conditions,values)"
   ]
  },
  {
   "cell_type": "code",
   "execution_count": 752,
   "id": "7008f69c-e682-4bc7-966a-8184b187571a",
   "metadata": {},
   "outputs": [],
   "source": [
    "#Encode strength\n",
    "shots['strength_Even'] = np.where(shots['Strength_Mapped']==\"even\",1,0)\n",
    "shots['strength_Advantage'] = np.where(shots['Strength_Mapped']==\"advantage\",1,0)\n",
    "shots['strength_Short_Handed'] = np.where(shots['Strength_Mapped']==\"short_handed\",1,0)"
   ]
  },
  {
   "cell_type": "code",
   "execution_count": 753,
   "id": "4f7fb026-c80d-420f-befa-06f111649cc4",
   "metadata": {},
   "outputs": [],
   "source": [
    "#Save to CSV\n",
    "shots.to_csv(\"season_shots/2020_shots_clean.csv\")"
   ]
  }
 ],
 "metadata": {
  "kernelspec": {
   "display_name": "Python 3 (ipykernel)",
   "language": "python",
   "name": "python3"
  },
  "language_info": {
   "codemirror_mode": {
    "name": "ipython",
    "version": 3
   },
   "file_extension": ".py",
   "mimetype": "text/x-python",
   "name": "python",
   "nbconvert_exporter": "python",
   "pygments_lexer": "ipython3",
   "version": "3.9.2"
  }
 },
 "nbformat": 4,
 "nbformat_minor": 5
}
